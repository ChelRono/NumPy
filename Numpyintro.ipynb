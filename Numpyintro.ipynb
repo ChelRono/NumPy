{
 "cells": [
  {
   "cell_type": "code",
   "execution_count": 1,
   "id": "eb8b0931-a540-4647-9dd3-d231bf6058ed",
   "metadata": {},
   "outputs": [],
   "source": [
    "import numpy as np"
   ]
  },
  {
   "cell_type": "code",
   "execution_count": 3,
   "id": "a6330abe-ff5a-459f-9abf-d94d9ef38fd2",
   "metadata": {},
   "outputs": [],
   "source": [
    "a = np.array([1,2,3,4,5], dtype='i')"
   ]
  },
  {
   "cell_type": "code",
   "execution_count": 5,
   "id": "7baa5222-7023-419a-bea5-61b6094e8b7b",
   "metadata": {},
   "outputs": [],
   "source": [
    "b = np.array((6,7,8,9,10), dtype='f')"
   ]
  },
  {
   "cell_type": "code",
   "execution_count": 7,
   "id": "f6856859-d178-4caa-aff7-5926658b567a",
   "metadata": {},
   "outputs": [
    {
     "name": "stdout",
     "output_type": "stream",
     "text": [
      "[1 2 3 4 5]\n"
     ]
    }
   ],
   "source": [
    "print(a)"
   ]
  },
  {
   "cell_type": "code",
   "execution_count": 9,
   "id": "523600f9-4ac8-4129-ac5e-edf8ded3d7cf",
   "metadata": {},
   "outputs": [
    {
     "name": "stdout",
     "output_type": "stream",
     "text": [
      "[ 6  7  8  9 10]\n"
     ]
    }
   ],
   "source": [
    "print(b)"
   ]
  },
  {
   "cell_type": "code",
   "execution_count": 11,
   "id": "8517fd8e-8fca-4a10-a518-7e7644eab277",
   "metadata": {},
   "outputs": [
    {
     "data": {
      "text/plain": [
       "numpy.ndarray"
      ]
     },
     "execution_count": 11,
     "metadata": {},
     "output_type": "execute_result"
    }
   ],
   "source": [
    "type(a)"
   ]
  },
  {
   "cell_type": "code",
   "execution_count": 13,
   "id": "5bbb7531-c3d0-4453-9adb-bdc76862d85e",
   "metadata": {},
   "outputs": [
    {
     "data": {
      "text/plain": [
       "numpy.ndarray"
      ]
     },
     "execution_count": 13,
     "metadata": {},
     "output_type": "execute_result"
    }
   ],
   "source": [
    "type(b)"
   ]
  },
  {
   "cell_type": "code",
   "execution_count": 15,
   "id": "d1ff491e-5ec4-4e6e-9d92-71f58fb553a6",
   "metadata": {},
   "outputs": [
    {
     "data": {
      "text/plain": [
       "dtype('int64')"
      ]
     },
     "execution_count": 15,
     "metadata": {},
     "output_type": "execute_result"
    }
   ],
   "source": [
    "a.dtype"
   ]
  },
  {
   "cell_type": "code",
   "execution_count": 17,
   "id": "01b40fc8-01ee-41b0-812f-bccfc4f9c658",
   "metadata": {},
   "outputs": [
    {
     "data": {
      "text/plain": [
       "dtype('int64')"
      ]
     },
     "execution_count": 17,
     "metadata": {},
     "output_type": "execute_result"
    }
   ],
   "source": [
    "b.dtype"
   ]
  },
  {
   "cell_type": "code",
   "execution_count": 19,
   "id": "4a552f07-e9de-4624-90d2-8c8845cb1121",
   "metadata": {},
   "outputs": [
    {
     "data": {
      "text/plain": [
       "dtype('int64')"
      ]
     },
     "execution_count": 19,
     "metadata": {},
     "output_type": "execute_result"
    }
   ],
   "source": [
    "b.dtype"
   ]
  },
  {
   "cell_type": "code",
   "execution_count": 21,
   "id": "fc2f135c-5723-45f5-a2a7-c3bc40bd027d",
   "metadata": {},
   "outputs": [],
   "source": [
    "a = np.array([[1,2,3],[4,5,6]])"
   ]
  },
  {
   "cell_type": "code",
   "execution_count": 23,
   "id": "9038e252-32c2-4452-9d38-6ecb28ceb4de",
   "metadata": {},
   "outputs": [
    {
     "name": "stdout",
     "output_type": "stream",
     "text": [
      "2\n"
     ]
    }
   ],
   "source": [
    "print(a.ndim)"
   ]
  },
  {
   "cell_type": "code",
   "execution_count": 25,
   "id": "d1d1c215-fa77-4372-bed3-36c49bf673b6",
   "metadata": {},
   "outputs": [
    {
     "data": {
      "text/plain": [
       "5"
      ]
     },
     "execution_count": 25,
     "metadata": {},
     "output_type": "execute_result"
    }
   ],
   "source": [
    "a[1,1]"
   ]
  },
  {
   "cell_type": "code",
   "execution_count": 31,
   "id": "64bc8492-35b1-4af8-b92e-be0fc84918db",
   "metadata": {},
   "outputs": [],
   "source": [
    "b = np.array([[1,2,3],[4,5,6],[4,5,6]])"
   ]
  },
  {
   "cell_type": "code",
   "execution_count": 33,
   "id": "75f078b9-8f71-4528-a39e-061b2ef1cf5b",
   "metadata": {},
   "outputs": [
    {
     "data": {
      "text/plain": [
       "2"
      ]
     },
     "execution_count": 33,
     "metadata": {},
     "output_type": "execute_result"
    }
   ],
   "source": [
    "b.ndim"
   ]
  },
  {
   "cell_type": "code",
   "execution_count": 35,
   "id": "311352ca-db5e-45f2-86e6-44f180c93caf",
   "metadata": {},
   "outputs": [
    {
     "name": "stdout",
     "output_type": "stream",
     "text": [
      "2\n"
     ]
    }
   ],
   "source": [
    "print(b.ndim)"
   ]
  },
  {
   "cell_type": "code",
   "execution_count": 37,
   "id": "1740156d-b612-42ed-a427-fb039627f9cd",
   "metadata": {},
   "outputs": [],
   "source": [
    "c = np.array([1,2,3])"
   ]
  },
  {
   "cell_type": "code",
   "execution_count": 39,
   "id": "942b2534-ac2b-4128-acf5-cdaa415b2a26",
   "metadata": {},
   "outputs": [
    {
     "data": {
      "text/plain": [
       "2"
      ]
     },
     "execution_count": 39,
     "metadata": {},
     "output_type": "execute_result"
    }
   ],
   "source": [
    "c.ndim"
   ]
  },
  {
   "cell_type": "code",
   "execution_count": 41,
   "id": "f11cb5d2-f4e4-4279-a7e4-15578d65474c",
   "metadata": {},
   "outputs": [
    {
     "name": "stdout",
     "output_type": "stream",
     "text": [
      "2\n"
     ]
    }
   ],
   "source": [
    "print(c.ndim)"
   ]
  },
  {
   "cell_type": "code",
   "execution_count": 43,
   "id": "c2461783-00dd-4dda-b11c-f609c7180e77",
   "metadata": {},
   "outputs": [],
   "source": [
    "c = np.array([1,2,3])"
   ]
  },
  {
   "cell_type": "code",
   "execution_count": 45,
   "id": "e18a9f4d-68c8-4f68-85f8-4ef7be72dffe",
   "metadata": {},
   "outputs": [
    {
     "data": {
      "text/plain": [
       "1"
      ]
     },
     "execution_count": 45,
     "metadata": {},
     "output_type": "execute_result"
    }
   ],
   "source": [
    "c.ndim\n"
   ]
  },
  {
   "cell_type": "code",
   "execution_count": 47,
   "id": "c4cec8fc-c6aa-440f-9cc5-4a7d1830c4a9",
   "metadata": {},
   "outputs": [],
   "source": [
    "e = np.array([[[1,2,3],[4,5,6],[4,5,6]],[[-1,-2,-3],[-4,-5,-6],[-4,-5,-6]]])"
   ]
  },
  {
   "cell_type": "code",
   "execution_count": 49,
   "id": "2c2142c2-0155-4cd2-86c3-a54c7d7331c5",
   "metadata": {},
   "outputs": [
    {
     "data": {
      "text/plain": [
       "3"
      ]
     },
     "execution_count": 49,
     "metadata": {},
     "output_type": "execute_result"
    }
   ],
   "source": [
    "e.ndim"
   ]
  },
  {
   "cell_type": "code",
   "execution_count": 51,
   "id": "5ada07ef-e633-420d-842d-1f7ec7f38646",
   "metadata": {},
   "outputs": [
    {
     "data": {
      "text/plain": [
       "-6"
      ]
     },
     "execution_count": 51,
     "metadata": {},
     "output_type": "execute_result"
    }
   ],
   "source": [
    "e[1,2,2]"
   ]
  },
  {
   "cell_type": "code",
   "execution_count": 53,
   "id": "6923675c-4549-4a69-8fd3-333ef47d3cbe",
   "metadata": {},
   "outputs": [
    {
     "data": {
      "text/plain": [
       "numpy.ndarray"
      ]
     },
     "execution_count": 53,
     "metadata": {},
     "output_type": "execute_result"
    }
   ],
   "source": [
    "type(e)"
   ]
  },
  {
   "cell_type": "code",
   "execution_count": 55,
   "id": "5ccd670e-751a-4d20-9778-82d1e006ac63",
   "metadata": {},
   "outputs": [
    {
     "data": {
      "text/plain": [
       "(2, 3, 3)"
      ]
     },
     "execution_count": 55,
     "metadata": {},
     "output_type": "execute_result"
    }
   ],
   "source": [
    "e.shape"
   ]
  },
  {
   "cell_type": "code",
   "execution_count": 57,
   "id": "75bfd388-e6ab-4bec-b38d-8076a84af689",
   "metadata": {},
   "outputs": [
    {
     "data": {
      "text/plain": [
       "(3,)"
      ]
     },
     "execution_count": 57,
     "metadata": {},
     "output_type": "execute_result"
    }
   ],
   "source": [
    "c.shape"
   ]
  },
  {
   "cell_type": "code",
   "execution_count": 59,
   "id": "245cd951-07ba-4143-ab24-e90d4487fb71",
   "metadata": {},
   "outputs": [
    {
     "data": {
      "text/plain": [
       "3"
      ]
     },
     "execution_count": 59,
     "metadata": {},
     "output_type": "execute_result"
    }
   ],
   "source": [
    "c.size"
   ]
  },
  {
   "cell_type": "code",
   "execution_count": 61,
   "id": "9d8d7240-0528-4010-82b1-d37bc0f1e2b9",
   "metadata": {},
   "outputs": [
    {
     "data": {
      "text/plain": [
       "6"
      ]
     },
     "execution_count": 61,
     "metadata": {},
     "output_type": "execute_result"
    }
   ],
   "source": [
    "a.size"
   ]
  },
  {
   "cell_type": "code",
   "execution_count": 63,
   "id": "4cde4ee0-7135-4c9e-b5e5-2ddc6c600df2",
   "metadata": {},
   "outputs": [
    {
     "data": {
      "text/plain": [
       "18"
      ]
     },
     "execution_count": 63,
     "metadata": {},
     "output_type": "execute_result"
    }
   ],
   "source": [
    "e.size"
   ]
  },
  {
   "cell_type": "code",
   "execution_count": 65,
   "id": "2b88e871-c177-40bc-ac56-5451b99a5104",
   "metadata": {},
   "outputs": [],
   "source": [
    " a = np.arange(50)"
   ]
  },
  {
   "cell_type": "code",
   "execution_count": 67,
   "id": "222e37a7-01ce-4c91-aa6e-3d108b1ba5df",
   "metadata": {},
   "outputs": [
    {
     "name": "stdout",
     "output_type": "stream",
     "text": [
      "[ 0  1  2  3  4  5  6  7  8  9 10 11 12 13 14 15 16 17 18 19 20 21 22 23\n",
      " 24 25 26 27 28 29 30 31 32 33 34 35 36 37 38 39 40 41 42 43 44 45 46 47\n",
      " 48 49]\n"
     ]
    }
   ],
   "source": [
    "print(a)"
   ]
  },
  {
   "cell_type": "code",
   "execution_count": 69,
   "id": "7f842fdb-f019-4e44-b1ea-2bf1d04d839e",
   "metadata": {},
   "outputs": [],
   "source": [
    "b = np.arange(10,20)"
   ]
  },
  {
   "cell_type": "code",
   "execution_count": 71,
   "id": "421f3d3e-e2af-412e-830c-fae6e0cbad0a",
   "metadata": {},
   "outputs": [
    {
     "name": "stdout",
     "output_type": "stream",
     "text": [
      "[10 11 12 13 14 15 16 17 18 19]\n"
     ]
    }
   ],
   "source": [
    "print(b)"
   ]
  },
  {
   "cell_type": "code",
   "execution_count": 73,
   "id": "ba2363b2-9b38-4fc7-a691-b87913243ea1",
   "metadata": {},
   "outputs": [],
   "source": [
    "c = np.arange(10,40,2)"
   ]
  },
  {
   "cell_type": "code",
   "execution_count": 75,
   "id": "a6a5e3d9-dc44-423e-bcb0-7f5dd945df5f",
   "metadata": {},
   "outputs": [
    {
     "name": "stdout",
     "output_type": "stream",
     "text": [
      "[10 12 14 16 18 20 22 24 26 28 30 32 34 36 38]\n"
     ]
    }
   ],
   "source": [
    "print(c)"
   ]
  },
  {
   "cell_type": "code",
   "execution_count": 77,
   "id": "cf8811ed-9568-444e-900d-2e2068c76760",
   "metadata": {},
   "outputs": [
    {
     "name": "stdout",
     "output_type": "stream",
     "text": [
      "[0, 1, 2, 3, 4, 5, 6, 7, 8, 9]\n"
     ]
    }
   ],
   "source": [
    "print(list(range(10)))"
   ]
  },
  {
   "cell_type": "code",
   "execution_count": 79,
   "id": "7afb70db-45b5-4cb9-b2ac-98fb2e46b563",
   "metadata": {},
   "outputs": [],
   "source": [
    "z = np.random.permutation(np.arange(10))"
   ]
  },
  {
   "cell_type": "code",
   "execution_count": 81,
   "id": "9e53d490-3280-4299-8f17-74c7544a8484",
   "metadata": {},
   "outputs": [
    {
     "name": "stdout",
     "output_type": "stream",
     "text": [
      "[0 3 2 7 4 1 9 6 8 5]\n"
     ]
    }
   ],
   "source": [
    "print(z)"
   ]
  },
  {
   "cell_type": "code",
   "execution_count": 83,
   "id": "b72ab833-c10d-4d9b-ab11-4dc42a62533b",
   "metadata": {},
   "outputs": [
    {
     "data": {
      "text/plain": [
       "\u001b[0;31mDocstring:\u001b[0m\n",
       "randint(low, high=None, size=None, dtype=int)\n",
       "\n",
       "Return random integers from `low` (inclusive) to `high` (exclusive).\n",
       "\n",
       "Return random integers from the \"discrete uniform\" distribution of\n",
       "the specified dtype in the \"half-open\" interval [`low`, `high`). If\n",
       "`high` is None (the default), then results are from [0, `low`).\n",
       "\n",
       ".. note::\n",
       "    New code should use the `~numpy.random.Generator.integers`\n",
       "    method of a `~numpy.random.Generator` instance instead;\n",
       "    please see the :ref:`random-quick-start`.\n",
       "\n",
       "Parameters\n",
       "----------\n",
       "low : int or array-like of ints\n",
       "    Lowest (signed) integers to be drawn from the distribution (unless\n",
       "    ``high=None``, in which case this parameter is one above the\n",
       "    *highest* such integer).\n",
       "high : int or array-like of ints, optional\n",
       "    If provided, one above the largest (signed) integer to be drawn\n",
       "    from the distribution (see above for behavior if ``high=None``).\n",
       "    If array-like, must contain integer values\n",
       "size : int or tuple of ints, optional\n",
       "    Output shape.  If the given shape is, e.g., ``(m, n, k)``, then\n",
       "    ``m * n * k`` samples are drawn.  Default is None, in which case a\n",
       "    single value is returned.\n",
       "dtype : dtype, optional\n",
       "    Desired dtype of the result. Byteorder must be native.\n",
       "    The default value is int.\n",
       "\n",
       "    .. versionadded:: 1.11.0\n",
       "\n",
       "Returns\n",
       "-------\n",
       "out : int or ndarray of ints\n",
       "    `size`-shaped array of random integers from the appropriate\n",
       "    distribution, or a single such random int if `size` not provided.\n",
       "\n",
       "See Also\n",
       "--------\n",
       "random_integers : similar to `randint`, only for the closed\n",
       "    interval [`low`, `high`], and 1 is the lowest value if `high` is\n",
       "    omitted.\n",
       "random.Generator.integers: which should be used for new code.\n",
       "\n",
       "Examples\n",
       "--------\n",
       ">>> np.random.randint(2, size=10)\n",
       "array([1, 0, 0, 0, 1, 1, 0, 0, 1, 0]) # random\n",
       ">>> np.random.randint(1, size=10)\n",
       "array([0, 0, 0, 0, 0, 0, 0, 0, 0, 0])\n",
       "\n",
       "Generate a 2 x 4 array of ints between 0 and 4, inclusive:\n",
       "\n",
       ">>> np.random.randint(5, size=(2, 4))\n",
       "array([[4, 0, 2, 1], # random\n",
       "       [3, 2, 2, 0]])\n",
       "\n",
       "Generate a 1 x 3 array with 3 different upper bounds\n",
       "\n",
       ">>> np.random.randint(1, [3, 5, 10])\n",
       "array([2, 2, 9]) # random\n",
       "\n",
       "Generate a 1 by 3 array with 3 different lower bounds\n",
       "\n",
       ">>> np.random.randint([1, 5, 7], 10)\n",
       "array([9, 8, 7]) # random\n",
       "\n",
       "Generate a 2 by 4 array using broadcasting with dtype of uint8\n",
       "\n",
       ">>> np.random.randint([1, 3, 5, 7], [[10], [20]], dtype=np.uint8)\n",
       "array([[ 8,  6,  9,  7], # random\n",
       "       [ 1, 16,  9, 12]], dtype=uint8)\n",
       "\u001b[0;31mType:\u001b[0m      builtin_function_or_method"
      ]
     },
     "metadata": {},
     "output_type": "display_data"
    }
   ],
   "source": [
    "np.random.randint?"
   ]
  },
  {
   "cell_type": "code",
   "execution_count": 85,
   "id": "19fb1119-3e20-41be-a53b-d8ce2467c59b",
   "metadata": {},
   "outputs": [
    {
     "ename": "AttributeError",
     "evalue": "module 'numpy.random' has no attribute 'randit'",
     "output_type": "error",
     "traceback": [
      "\u001b[0;31m---------------------------------------------------------------------------\u001b[0m",
      "\u001b[0;31mAttributeError\u001b[0m                            Traceback (most recent call last)",
      "Cell \u001b[0;32mIn[85], line 1\u001b[0m\n\u001b[0;32m----> 1\u001b[0m np\u001b[38;5;241m.\u001b[39mrandom\u001b[38;5;241m.\u001b[39mrandit(\u001b[38;5;241m20\u001b[39m,\u001b[38;5;241m30\u001b[39m)\n",
      "\u001b[0;31mAttributeError\u001b[0m: module 'numpy.random' has no attribute 'randit'"
     ]
    }
   ],
   "source": [
    "np.random.randit(20,30)\n"
   ]
  },
  {
   "cell_type": "code",
   "execution_count": 87,
   "id": "13dbc7a7-6639-4467-bf82-c6c282d484a8",
   "metadata": {},
   "outputs": [
    {
     "ename": "AttributeError",
     "evalue": "module 'numpy' has no attribute 'rando'",
     "output_type": "error",
     "traceback": [
      "\u001b[0;31m---------------------------------------------------------------------------\u001b[0m",
      "\u001b[0;31mAttributeError\u001b[0m                            Traceback (most recent call last)",
      "Cell \u001b[0;32mIn[87], line 1\u001b[0m\n\u001b[0;32m----> 1\u001b[0m a \u001b[38;5;241m=\u001b[39m np\u001b[38;5;241m.\u001b[39mrando\u001b[38;5;241m.\u001b[39mrandit(\u001b[38;5;241m20\u001b[39m,\u001b[38;5;241m30\u001b[39m)\n\u001b[1;32m      2\u001b[0m \u001b[38;5;28mprint\u001b[39m(a)\n",
      "File \u001b[0;32m~/anaconda3/lib/python3.11/site-packages/numpy/__init__.py:333\u001b[0m, in \u001b[0;36m__getattr__\u001b[0;34m(attr)\u001b[0m\n\u001b[1;32m    330\u001b[0m     \u001b[38;5;124m\"\u001b[39m\u001b[38;5;124mRemoved in NumPy 1.25.0\u001b[39m\u001b[38;5;124m\"\u001b[39m\n\u001b[1;32m    331\u001b[0m     \u001b[38;5;28;01mraise\u001b[39;00m \u001b[38;5;167;01mRuntimeError\u001b[39;00m(\u001b[38;5;124m\"\u001b[39m\u001b[38;5;124mTester was removed in NumPy 1.25.\u001b[39m\u001b[38;5;124m\"\u001b[39m)\n\u001b[0;32m--> 333\u001b[0m \u001b[38;5;28;01mraise\u001b[39;00m \u001b[38;5;167;01mAttributeError\u001b[39;00m(\u001b[38;5;124m\"\u001b[39m\u001b[38;5;124mmodule \u001b[39m\u001b[38;5;132;01m{!r}\u001b[39;00m\u001b[38;5;124m has no attribute \u001b[39m\u001b[38;5;124m\"\u001b[39m\n\u001b[1;32m    334\u001b[0m                      \u001b[38;5;124m\"\u001b[39m\u001b[38;5;132;01m{!r}\u001b[39;00m\u001b[38;5;124m\"\u001b[39m\u001b[38;5;241m.\u001b[39mformat(\u001b[38;5;18m__name__\u001b[39m, attr))\n",
      "\u001b[0;31mAttributeError\u001b[0m: module 'numpy' has no attribute 'rando'"
     ]
    }
   ],
   "source": [
    "a = np.rando.randit(20,30)\n",
    "print(a)"
   ]
  },
  {
   "cell_type": "code",
   "execution_count": 89,
   "id": "ac31a63b-0e78-48c2-b557-1b0863f6437b",
   "metadata": {},
   "outputs": [
    {
     "ename": "AttributeError",
     "evalue": "module 'numpy.random' has no attribute 'randit'",
     "output_type": "error",
     "traceback": [
      "\u001b[0;31m---------------------------------------------------------------------------\u001b[0m",
      "\u001b[0;31mAttributeError\u001b[0m                            Traceback (most recent call last)",
      "Cell \u001b[0;32mIn[89], line 1\u001b[0m\n\u001b[0;32m----> 1\u001b[0m a \u001b[38;5;241m=\u001b[39m np\u001b[38;5;241m.\u001b[39mrandom\u001b[38;5;241m.\u001b[39mrandit(\u001b[38;5;241m20\u001b[39m,\u001b[38;5;241m30\u001b[39m)\n\u001b[1;32m      2\u001b[0m \u001b[38;5;28mprint\u001b[39m(a)\n",
      "\u001b[0;31mAttributeError\u001b[0m: module 'numpy.random' has no attribute 'randit'"
     ]
    }
   ],
   "source": [
    "a = np.random.randit(20,30)\n",
    "print(a)"
   ]
  },
  {
   "cell_type": "code",
   "execution_count": 91,
   "id": "a033585e-4df6-4312-9263-e6f00ea4a387",
   "metadata": {},
   "outputs": [
    {
     "ename": "AttributeError",
     "evalue": "module 'numpy.random' has no attribute 'randit'",
     "output_type": "error",
     "traceback": [
      "\u001b[0;31m---------------------------------------------------------------------------\u001b[0m",
      "\u001b[0;31mAttributeError\u001b[0m                            Traceback (most recent call last)",
      "Cell \u001b[0;32mIn[91], line 1\u001b[0m\n\u001b[0;32m----> 1\u001b[0m a \u001b[38;5;241m=\u001b[39m np\u001b[38;5;241m.\u001b[39mrandom\u001b[38;5;241m.\u001b[39mrandit(\u001b[38;5;241m20\u001b[39m,\u001b[38;5;241m30\u001b[39m)\n\u001b[1;32m      2\u001b[0m \u001b[38;5;28mprint\u001b[39m(a)\n",
      "\u001b[0;31mAttributeError\u001b[0m: module 'numpy.random' has no attribute 'randit'"
     ]
    }
   ],
   "source": [
    "a = np.random.randit(20,30)\n",
    "print(a)"
   ]
  },
  {
   "cell_type": "code",
   "execution_count": 93,
   "id": "42ca73ad-78bd-455a-9838-dfa0ee662916",
   "metadata": {},
   "outputs": [
    {
     "name": "stdout",
     "output_type": "stream",
     "text": [
      "24\n"
     ]
    }
   ],
   "source": [
    "a = np.random.randint(20,30)\n",
    "print(a)"
   ]
  },
  {
   "cell_type": "code",
   "execution_count": 96,
   "id": "6cc67198-cd25-4ec4-8a0a-06a654aa612b",
   "metadata": {},
   "outputs": [
    {
     "name": "stdout",
     "output_type": "stream",
     "text": [
      "21\n"
     ]
    }
   ],
   "source": [
    "a = np.random.randint(20,30)\n",
    "print(a)"
   ]
  },
  {
   "cell_type": "code",
   "execution_count": 98,
   "id": "b18954d0-0321-4510-9ae0-fff2e39d2d05",
   "metadata": {},
   "outputs": [],
   "source": [
    "import matplotlib.pyplot as plt"
   ]
  },
  {
   "cell_type": "code",
   "execution_count": 100,
   "id": "b1eda67f-6e73-4806-98ea-e25a08ea8d7c",
   "metadata": {},
   "outputs": [],
   "source": [
    "a = np.random.rand(1000)"
   ]
  },
  {
   "cell_type": "code",
   "execution_count": 102,
   "id": "25be5b03-0dbc-4e83-9c27-cd496315f3cc",
   "metadata": {},
   "outputs": [
    {
     "data": {
      "text/plain": [
       "(array([14.,  9.,  9.,  8., 16.,  6.,  3.,  8., 11., 10., 13., 10., 16.,\n",
       "        11., 14.,  7.,  7., 12., 11.,  8., 12., 11., 19.,  9., 11.,  5.,\n",
       "         6., 10., 14.,  5.,  6., 11., 18., 15.,  7., 10.,  6., 15.,  7.,\n",
       "        10., 13., 11., 11., 10.,  6., 11., 10.,  6., 10., 15.,  6., 15.,\n",
       "         8., 10.,  9., 11.,  8.,  6.,  7.,  3.,  7.,  9., 18., 12.,  8.,\n",
       "        14., 12.,  7., 11.,  7., 10.,  8.,  6.,  5., 10., 12., 11.,  8.,\n",
       "        11.,  7.,  8.,  9.,  6., 16., 16., 12., 10.,  7., 13.,  7., 12.,\n",
       "         7., 14.,  9., 15.,  7., 10., 16.,  9.,  8.]),\n",
       " array([0.00201052, 0.01197797, 0.02194543, 0.03191288, 0.04188034,\n",
       "        0.0518478 , 0.06181525, 0.07178271, 0.08175016, 0.09171762,\n",
       "        0.10168507, 0.11165253, 0.12161999, 0.13158744, 0.1415549 ,\n",
       "        0.15152235, 0.16148981, 0.17145727, 0.18142472, 0.19139218,\n",
       "        0.20135963, 0.21132709, 0.22129455, 0.231262  , 0.24122946,\n",
       "        0.25119691, 0.26116437, 0.27113183, 0.28109928, 0.29106674,\n",
       "        0.30103419, 0.31100165, 0.32096911, 0.33093656, 0.34090402,\n",
       "        0.35087147, 0.36083893, 0.37080638, 0.38077384, 0.3907413 ,\n",
       "        0.40070875, 0.41067621, 0.42064366, 0.43061112, 0.44057858,\n",
       "        0.45054603, 0.46051349, 0.47048094, 0.4804484 , 0.49041586,\n",
       "        0.50038331, 0.51035077, 0.52031822, 0.53028568, 0.54025314,\n",
       "        0.55022059, 0.56018805, 0.5701555 , 0.58012296, 0.59009042,\n",
       "        0.60005787, 0.61002533, 0.61999278, 0.62996024, 0.63992769,\n",
       "        0.64989515, 0.65986261, 0.66983006, 0.67979752, 0.68976497,\n",
       "        0.69973243, 0.70969989, 0.71966734, 0.7296348 , 0.73960225,\n",
       "        0.74956971, 0.75953717, 0.76950462, 0.77947208, 0.78943953,\n",
       "        0.79940699, 0.80937445, 0.8193419 , 0.82930936, 0.83927681,\n",
       "        0.84924427, 0.85921173, 0.86917918, 0.87914664, 0.88911409,\n",
       "        0.89908155, 0.909049  , 0.91901646, 0.92898392, 0.93895137,\n",
       "        0.94891883, 0.95888628, 0.96885374, 0.9788212 , 0.98878865,\n",
       "        0.99875611]),\n",
       " <BarContainer object of 100 artists>)"
      ]
     },
     "execution_count": 102,
     "metadata": {},
     "output_type": "execute_result"
    },
    {
     "data": {
      "image/png": "[encoded data removed]",
      "text/plain": [
       "<Figure size 640x480 with 1 Axes>"
      ]
     },
     "metadata": {},
     "output_type": "display_data"
    }
   ],
   "source": [
    "plt.hist(a,bins=100)"
   ]
  },
  {
   "cell_type": "code",
   "execution_count": 104,
   "id": "6b05a6b4-97df-452b-808f-c2481f3775cf",
   "metadata": {},
   "outputs": [
    {
     "data": {
      "text/plain": [
       "(array([1.000e+00, 0.000e+00, 0.000e+00, 0.000e+00, 0.000e+00, 1.000e+00,\n",
       "        0.000e+00, 1.000e+00, 1.000e+00, 2.000e+00, 1.000e+00, 0.000e+00,\n",
       "        0.000e+00, 2.000e+00, 2.000e+00, 0.000e+00, 3.000e+00, 3.000e+00,\n",
       "        5.000e+00, 6.000e+00, 1.000e+00, 6.000e+00, 4.000e+00, 1.100e+01,\n",
       "        4.000e+00, 1.200e+01, 3.000e+00, 1.200e+01, 2.100e+01, 8.000e+00,\n",
       "        1.400e+01, 2.300e+01, 1.700e+01, 2.600e+01, 3.400e+01, 2.700e+01,\n",
       "        3.700e+01, 4.800e+01, 3.500e+01, 5.200e+01, 7.400e+01, 5.700e+01,\n",
       "        8.300e+01, 8.600e+01, 1.120e+02, 7.900e+01, 1.240e+02, 1.320e+02,\n",
       "        1.330e+02, 1.440e+02, 1.720e+02, 1.770e+02, 2.260e+02, 2.360e+02,\n",
       "        2.410e+02, 2.590e+02, 3.160e+02, 3.420e+02, 4.110e+02, 3.930e+02,\n",
       "        4.240e+02, 4.590e+02, 4.730e+02, 5.240e+02, 5.480e+02, 5.900e+02,\n",
       "        5.900e+02, 6.300e+02, 6.640e+02, 6.980e+02, 7.600e+02, 8.440e+02,\n",
       "        9.280e+02, 9.270e+02, 9.880e+02, 9.830e+02, 9.880e+02, 1.106e+03,\n",
       "        1.164e+03, 1.172e+03, 1.235e+03, 1.311e+03, 1.367e+03, 1.393e+03,\n",
       "        1.448e+03, 1.473e+03, 1.496e+03, 1.459e+03, 1.555e+03, 1.585e+03,\n",
       "        1.611e+03, 1.642e+03, 1.647e+03, 1.694e+03, 1.694e+03, 1.709e+03,\n",
       "        1.829e+03, 1.733e+03, 1.834e+03, 1.754e+03, 1.671e+03, 1.744e+03,\n",
       "        1.759e+03, 1.723e+03, 1.621e+03, 1.672e+03, 1.611e+03, 1.615e+03,\n",
       "        1.577e+03, 1.599e+03, 1.499e+03, 1.513e+03, 1.545e+03, 1.528e+03,\n",
       "        1.414e+03, 1.343e+03, 1.400e+03, 1.331e+03, 1.260e+03, 1.142e+03,\n",
       "        1.119e+03, 1.043e+03, 1.010e+03, 9.750e+02, 9.760e+02, 8.670e+02,\n",
       "        8.790e+02, 7.910e+02, 7.470e+02, 7.340e+02, 7.020e+02, 6.250e+02,\n",
       "        6.280e+02, 6.020e+02, 5.410e+02, 4.700e+02, 4.850e+02, 4.550e+02,\n",
       "        4.470e+02, 3.730e+02, 3.490e+02, 3.430e+02, 2.800e+02, 2.750e+02,\n",
       "        2.440e+02, 2.550e+02, 2.090e+02, 1.740e+02, 1.660e+02, 1.490e+02,\n",
       "        1.390e+02, 1.230e+02, 1.270e+02, 9.500e+01, 8.700e+01, 7.200e+01,\n",
       "        8.600e+01, 7.300e+01, 6.500e+01, 6.700e+01, 5.400e+01, 4.000e+01,\n",
       "        3.400e+01, 4.100e+01, 4.000e+01, 2.500e+01, 3.600e+01, 2.900e+01,\n",
       "        2.100e+01, 1.300e+01, 1.700e+01, 1.300e+01, 1.200e+01, 7.000e+00,\n",
       "        3.000e+00, 6.000e+00, 1.100e+01, 7.000e+00, 7.000e+00, 2.000e+00,\n",
       "        4.000e+00, 0.000e+00, 2.000e+00, 1.000e+00, 3.000e+00, 1.000e+00,\n",
       "        0.000e+00, 1.000e+00, 1.000e+00, 1.000e+00, 2.000e+00, 0.000e+00,\n",
       "        0.000e+00, 0.000e+00, 1.000e+00, 0.000e+00, 0.000e+00, 0.000e+00,\n",
       "        1.000e+00, 1.000e+00]),\n",
       " array([-4.33954922, -4.29587334, -4.25219746, -4.20852158, -4.16484569,\n",
       "        -4.12116981, -4.07749393, -4.03381805, -3.99014217, -3.94646629,\n",
       "        -3.90279041, -3.85911453, -3.81543864, -3.77176276, -3.72808688,\n",
       "        -3.684411  , -3.64073512, -3.59705924, -3.55338336, -3.50970748,\n",
       "        -3.4660316 , -3.42235571, -3.37867983, -3.33500395, -3.29132807,\n",
       "        -3.24765219, -3.20397631, -3.16030043, -3.11662455, -3.07294866,\n",
       "        -3.02927278, -2.9855969 , -2.94192102, -2.89824514, -2.85456926,\n",
       "        -2.81089338, -2.7672175 , -2.72354161, -2.67986573, -2.63618985,\n",
       "        -2.59251397, -2.54883809, -2.50516221, -2.46148633, -2.41781045,\n",
       "        -2.37413457, -2.33045868, -2.2867828 , -2.24310692, -2.19943104,\n",
       "        -2.15575516, -2.11207928, -2.0684034 , -2.02472752, -1.98105163,\n",
       "        -1.93737575, -1.89369987, -1.85002399, -1.80634811, -1.76267223,\n",
       "        -1.71899635, -1.67532047, -1.63164458, -1.5879687 , -1.54429282,\n",
       "        -1.50061694, -1.45694106, -1.41326518, -1.3695893 , -1.32591342,\n",
       "        -1.28223754, -1.23856165, -1.19488577, -1.15120989, -1.10753401,\n",
       "        -1.06385813, -1.02018225, -0.97650637, -0.93283049, -0.8891546 ,\n",
       "        -0.84547872, -0.80180284, -0.75812696, -0.71445108, -0.6707752 ,\n",
       "        -0.62709932, -0.58342344, -0.53974756, -0.49607167, -0.45239579,\n",
       "        -0.40871991, -0.36504403, -0.32136815, -0.27769227, -0.23401639,\n",
       "        -0.19034051, -0.14666462, -0.10298874, -0.05931286, -0.01563698,\n",
       "         0.0280389 ,  0.07171478,  0.11539066,  0.15906654,  0.20274243,\n",
       "         0.24641831,  0.29009419,  0.33377007,  0.37744595,  0.42112183,\n",
       "         0.46479771,  0.50847359,  0.55214947,  0.59582536,  0.63950124,\n",
       "         0.68317712,  0.726853  ,  0.77052888,  0.81420476,  0.85788064,\n",
       "         0.90155652,  0.94523241,  0.98890829,  1.03258417,  1.07626005,\n",
       "         1.11993593,  1.16361181,  1.20728769,  1.25096357,  1.29463946,\n",
       "         1.33831534,  1.38199122,  1.4256671 ,  1.46934298,  1.51301886,\n",
       "         1.55669474,  1.60037062,  1.6440465 ,  1.68772239,  1.73139827,\n",
       "         1.77507415,  1.81875003,  1.86242591,  1.90610179,  1.94977767,\n",
       "         1.99345355,  2.03712944,  2.08080532,  2.1244812 ,  2.16815708,\n",
       "         2.21183296,  2.25550884,  2.29918472,  2.3428606 ,  2.38653649,\n",
       "         2.43021237,  2.47388825,  2.51756413,  2.56124001,  2.60491589,\n",
       "         2.64859177,  2.69226765,  2.73594353,  2.77961942,  2.8232953 ,\n",
       "         2.86697118,  2.91064706,  2.95432294,  2.99799882,  3.0416747 ,\n",
       "         3.08535058,  3.12902647,  3.17270235,  3.21637823,  3.26005411,\n",
       "         3.30372999,  3.34740587,  3.39108175,  3.43475763,  3.47843351,\n",
       "         3.5221094 ,  3.56578528,  3.60946116,  3.65313704,  3.69681292,\n",
       "         3.7404888 ,  3.78416468,  3.82784056,  3.87151645,  3.91519233,\n",
       "         3.95886821,  4.00254409,  4.04621997,  4.08989585,  4.13357173,\n",
       "         4.17724761,  4.2209235 ,  4.26459938,  4.30827526,  4.35195114,\n",
       "         4.39562702]),\n",
       " <BarContainer object of 200 artists>)"
      ]
     },
     "execution_count": 104,
     "metadata": {},
     "output_type": "execute_result"
    },
    {
     "data": {
      "image/png": "[encoded data removed]",
      "text/plain": [
       "<Figure size 640x480 with 1 Axes>"
      ]
     },
     "metadata": {},
     "output_type": "display_data"
    }
   ],
   "source": [
    "b = np.random.randn(100000)\n",
    "plt.hist(b,bins=200)"
   ]
  },
  {
   "cell_type": "code",
   "execution_count": 106,
   "id": "8fb5dd85-ecab-44b8-bd18-54bbfb31fa66",
   "metadata": {},
   "outputs": [],
   "source": [
    "d = np.arange(100).reshape(4,25)"
   ]
  },
  {
   "cell_type": "code",
   "execution_count": 108,
   "id": "81a5c70f-fdf3-4d5c-885d-c77b4c0bca3b",
   "metadata": {},
   "outputs": [
    {
     "ename": "AttributeError",
     "evalue": "'numpy.ndarray' object has no attribute 'shaoe'",
     "output_type": "error",
     "traceback": [
      "\u001b[0;31m---------------------------------------------------------------------------\u001b[0m",
      "\u001b[0;31mAttributeError\u001b[0m                            Traceback (most recent call last)",
      "Cell \u001b[0;32mIn[108], line 1\u001b[0m\n\u001b[0;32m----> 1\u001b[0m d\u001b[38;5;241m.\u001b[39mshaoe\n",
      "\u001b[0;31mAttributeError\u001b[0m: 'numpy.ndarray' object has no attribute 'shaoe'"
     ]
    }
   ],
   "source": [
    "d.shaoe"
   ]
  },
  {
   "cell_type": "code",
   "execution_count": 110,
   "id": "8a21f755-7272-4db0-897f-35d6743b74be",
   "metadata": {},
   "outputs": [
    {
     "data": {
      "text/plain": [
       "(4, 25)"
      ]
     },
     "execution_count": 110,
     "metadata": {},
     "output_type": "execute_result"
    }
   ],
   "source": [
    "d.shape"
   ]
  },
  {
   "cell_type": "code",
   "execution_count": 112,
   "id": "4db99972-ffb9-4f38-8891-c7363e0715bc",
   "metadata": {},
   "outputs": [
    {
     "data": {
      "text/plain": [
       "array([[ 0,  1,  2,  3,  4,  5,  6,  7,  8,  9, 10, 11, 12, 13, 14, 15,\n",
       "        16, 17, 18, 19, 20, 21, 22, 23, 24],\n",
       "       [25, 26, 27, 28, 29, 30, 31, 32, 33, 34, 35, 36, 37, 38, 39, 40,\n",
       "        41, 42, 43, 44, 45, 46, 47, 48, 49],\n",
       "       [50, 51, 52, 53, 54, 55, 56, 57, 58, 59, 60, 61, 62, 63, 64, 65,\n",
       "        66, 67, 68, 69, 70, 71, 72, 73, 74],\n",
       "       [75, 76, 77, 78, 79, 80, 81, 82, 83, 84, 85, 86, 87, 88, 89, 90,\n",
       "        91, 92, 93, 94, 95, 96, 97, 98, 99]])"
      ]
     },
     "execution_count": 112,
     "metadata": {},
     "output_type": "execute_result"
    }
   ],
   "source": [
    "d"
   ]
  },
  {
   "cell_type": "code",
   "execution_count": 114,
   "id": "e7524c65-39f2-4307-861e-5f84a761deb3",
   "metadata": {},
   "outputs": [
    {
     "data": {
      "text/plain": [
       "\u001b[0;31mDocstring:\u001b[0m\n",
       "zeros(shape, dtype=float, order='C', *, like=None)\n",
       "\n",
       "Return a new array of given shape and type, filled with zeros.\n",
       "\n",
       "Parameters\n",
       "----------\n",
       "shape : int or tuple of ints\n",
       "    Shape of the new array, e.g., ``(2, 3)`` or ``2``.\n",
       "dtype : data-type, optional\n",
       "    The desired data-type for the array, e.g., `numpy.int8`.  Default is\n",
       "    `numpy.float64`.\n",
       "order : {'C', 'F'}, optional, default: 'C'\n",
       "    Whether to store multi-dimensional data in row-major\n",
       "    (C-style) or column-major (Fortran-style) order in\n",
       "    memory.\n",
       "like : array_like, optional\n",
       "    Reference object to allow the creation of arrays which are not\n",
       "    NumPy arrays. If an array-like passed in as ``like`` supports\n",
       "    the ``__array_function__`` protocol, the result will be defined\n",
       "    by it. In this case, it ensures the creation of an array object\n",
       "    compatible with that passed in via this argument.\n",
       "\n",
       "    .. versionadded:: 1.20.0\n",
       "\n",
       "Returns\n",
       "-------\n",
       "out : ndarray\n",
       "    Array of zeros with the given shape, dtype, and order.\n",
       "\n",
       "See Also\n",
       "--------\n",
       "zeros_like : Return an array of zeros with shape and type of input.\n",
       "empty : Return a new uninitialized array.\n",
       "ones : Return a new array setting values to one.\n",
       "full : Return a new array of given shape filled with value.\n",
       "\n",
       "Examples\n",
       "--------\n",
       ">>> np.zeros(5)\n",
       "array([ 0.,  0.,  0.,  0.,  0.])\n",
       "\n",
       ">>> np.zeros((5,), dtype=int)\n",
       "array([0, 0, 0, 0, 0])\n",
       "\n",
       ">>> np.zeros((2, 1))\n",
       "array([[ 0.],\n",
       "       [ 0.]])\n",
       "\n",
       ">>> s = (2,2)\n",
       ">>> np.zeros(s)\n",
       "array([[ 0.,  0.],\n",
       "       [ 0.,  0.]])\n",
       "\n",
       ">>> np.zeros((2,), dtype=[('x', 'i4'), ('y', 'i4')]) # custom dtype\n",
       "array([(0, 0), (0, 0)],\n",
       "      dtype=[('x', '<i4'), ('y', '<i4')])\n",
       "\u001b[0;31mType:\u001b[0m      builtin_function_or_method"
      ]
     },
     "metadata": {},
     "output_type": "display_data"
    }
   ],
   "source": [
    "np.zeros?\n"
   ]
  },
  {
   "cell_type": "code",
   "execution_count": 116,
   "id": "9db043ea-fbe5-444b-b415-6dfb7fd5f927",
   "metadata": {},
   "outputs": [
    {
     "ename": "AttributeError",
     "evalue": "module 'numpy' has no attribute 'range'",
     "output_type": "error",
     "traceback": [
      "\u001b[0;31m---------------------------------------------------------------------------\u001b[0m",
      "\u001b[0;31mAttributeError\u001b[0m                            Traceback (most recent call last)",
      "Cell \u001b[0;32mIn[116], line 1\u001b[0m\n\u001b[0;32m----> 1\u001b[0m A \u001b[38;5;241m=\u001b[39m np\u001b[38;5;241m.\u001b[39mrange(\u001b[38;5;241m100\u001b[39m)\n",
      "File \u001b[0;32m~/anaconda3/lib/python3.11/site-packages/numpy/__init__.py:333\u001b[0m, in \u001b[0;36m__getattr__\u001b[0;34m(attr)\u001b[0m\n\u001b[1;32m    330\u001b[0m     \u001b[38;5;124m\"\u001b[39m\u001b[38;5;124mRemoved in NumPy 1.25.0\u001b[39m\u001b[38;5;124m\"\u001b[39m\n\u001b[1;32m    331\u001b[0m     \u001b[38;5;28;01mraise\u001b[39;00m \u001b[38;5;167;01mRuntimeError\u001b[39;00m(\u001b[38;5;124m\"\u001b[39m\u001b[38;5;124mTester was removed in NumPy 1.25.\u001b[39m\u001b[38;5;124m\"\u001b[39m)\n\u001b[0;32m--> 333\u001b[0m \u001b[38;5;28;01mraise\u001b[39;00m \u001b[38;5;167;01mAttributeError\u001b[39;00m(\u001b[38;5;124m\"\u001b[39m\u001b[38;5;124mmodule \u001b[39m\u001b[38;5;132;01m{!r}\u001b[39;00m\u001b[38;5;124m has no attribute \u001b[39m\u001b[38;5;124m\"\u001b[39m\n\u001b[1;32m    334\u001b[0m                      \u001b[38;5;124m\"\u001b[39m\u001b[38;5;132;01m{!r}\u001b[39;00m\u001b[38;5;124m\"\u001b[39m\u001b[38;5;241m.\u001b[39mformat(\u001b[38;5;18m__name__\u001b[39m, attr))\n",
      "\u001b[0;31mAttributeError\u001b[0m: module 'numpy' has no attribute 'range'"
     ]
    }
   ],
   "source": [
    "A = np.range(100)"
   ]
  },
  {
   "cell_type": "code",
   "execution_count": 118,
   "id": "f398545d-5829-4929-a112-a7e5d98c318a",
   "metadata": {},
   "outputs": [],
   "source": [
    "A = np.arange(100)"
   ]
  },
  {
   "cell_type": "code",
   "execution_count": 120,
   "id": "9e6d9e60-69aa-4f18-aaf0-d0ea43caa75b",
   "metadata": {},
   "outputs": [
    {
     "name": "stdout",
     "output_type": "stream",
     "text": [
      "[3 4 5 6 7 8 9]\n"
     ]
    }
   ],
   "source": [
    "b = A[3:10]\n",
    "print(b)"
   ]
  },
  {
   "cell_type": "code",
   "execution_count": 122,
   "id": "05339f3c-fbf5-4254-8f4f-2a99d3500640",
   "metadata": {},
   "outputs": [
    {
     "data": {
      "text/plain": [
       "array([-1200,     4,     5,     6,     7,     8,     9])"
      ]
     },
     "execution_count": 122,
     "metadata": {},
     "output_type": "execute_result"
    }
   ],
   "source": [
    "b[0] = -1200\n",
    "b"
   ]
  },
  {
   "cell_type": "code",
   "execution_count": 124,
   "id": "ceb20991-c3bb-4e3d-b162-f23ac476ec0e",
   "metadata": {},
   "outputs": [
    {
     "data": {
      "text/plain": [
       "array([    0,     1,     2, -1200,     4,     5,     6,     7,     8,\n",
       "           9,    10,    11,    12,    13,    14,    15,    16,    17,\n",
       "          18,    19,    20,    21,    22,    23,    24,    25,    26,\n",
       "          27,    28,    29,    30,    31,    32,    33,    34,    35,\n",
       "          36,    37,    38,    39,    40,    41,    42,    43,    44,\n",
       "          45,    46,    47,    48,    49,    50,    51,    52,    53,\n",
       "          54,    55,    56,    57,    58,    59,    60,    61,    62,\n",
       "          63,    64,    65,    66,    67,    68,    69,    70,    71,\n",
       "          72,    73,    74,    75,    76,    77,    78,    79,    80,\n",
       "          81,    82,    83,    84,    85,    86,    87,    88,    89,\n",
       "          90,    91,    92,    93,    94,    95,    96,    97,    98,\n",
       "          99])"
      ]
     },
     "execution_count": 124,
     "metadata": {},
     "output_type": "execute_result"
    }
   ],
   "source": [
    "A"
   ]
  },
  {
   "cell_type": "code",
   "execution_count": 126,
   "id": "1307f353-15ea-4940-bd25-f9e85a74e068",
   "metadata": {},
   "outputs": [
    {
     "data": {
      "text/plain": [
       "array([    0,     1,     2, -1200,     4,     5,     6,     7,     8,\n",
       "           9,    10,    11,    12,    13,    14,    15,    16,    17,\n",
       "          18,    19,    20,    21,    22,    23,    24,    25,    26,\n",
       "          27,    28,    29,    30,    31,    32,    33,    34,    35,\n",
       "          36,    37,    38,    39,    40,    41,    42,    43,    44,\n",
       "          45,    46,    47,    48,    49,    50,    51,    52,    53,\n",
       "          54,    55,    56,    57,    58,    59,    60,    61,    62,\n",
       "          63,    64,    65,    66,    67,    68,    69,    70,    71,\n",
       "          72,    73,    74,    75,    76,    77,    78,    79,    80,\n",
       "          81,    82,    83,    84,    85,    86,    87,    88,    89,\n",
       "          90,    91,    92,    93,    94,    95,    96,    97,    98,\n",
       "          99])"
      ]
     },
     "execution_count": 126,
     "metadata": {},
     "output_type": "execute_result"
    }
   ],
   "source": [
    "A[::5]\n",
    "A"
   ]
  },
  {
   "cell_type": "code",
   "execution_count": 128,
   "id": "861ed670-5f80-45f4-8442-42aa35dce16e",
   "metadata": {},
   "outputs": [],
   "source": [
    "b = A[3:10].copy()"
   ]
  },
  {
   "cell_type": "code",
   "execution_count": 130,
   "id": "d00daafa-ffb2-49b7-8c0d-14bc175d9d46",
   "metadata": {},
   "outputs": [
    {
     "data": {
      "text/plain": [
       "array([ 0,  5, 10, 15, 20, 25, 30, 35, 40, 45, 50, 55, 60, 65, 70, 75, 80,\n",
       "       85, 90, 95])"
      ]
     },
     "execution_count": 130,
     "metadata": {},
     "output_type": "execute_result"
    }
   ],
   "source": [
    "A[::5]"
   ]
  },
  {
   "cell_type": "code",
   "execution_count": 132,
   "id": "df599c1e-1812-4b95-9b1f-659951a8e116",
   "metadata": {},
   "outputs": [
    {
     "data": {
      "text/plain": [
       "array([   99,    98,    97,    96,    95,    94,    93,    92,    91,\n",
       "          90,    89,    88,    87,    86,    85,    84,    83,    82,\n",
       "          81,    80,    79,    78,    77,    76,    75,    74,    73,\n",
       "          72,    71,    70,    69,    68,    67,    66,    65,    64,\n",
       "          63,    62,    61,    60,    59,    58,    57,    56,    55,\n",
       "          54,    53,    52,    51,    50,    49,    48,    47,    46,\n",
       "          45,    44,    43,    42,    41,    40,    39,    38,    37,\n",
       "          36,    35,    34,    33,    32,    31,    30,    29,    28,\n",
       "          27,    26,    25,    24,    23,    22,    21,    20,    19,\n",
       "          18,    17,    16,    15,    14,    13,    12,    11,    10,\n",
       "           9,     8,     7,     6,     5,     4, -1200,     2,     1,\n",
       "           0])"
      ]
     },
     "execution_count": 132,
     "metadata": {},
     "output_type": "execute_result"
    }
   ],
   "source": [
    "A[::-1]"
   ]
  },
  {
   "cell_type": "code",
   "execution_count": null,
   "id": "8084c173-e34b-4830-855d-cf85f36ff7c4",
   "metadata": {},
   "outputs": [],
   "source": []
  }
 ],
 "metadata": {
  "kernelspec": {
   "display_name": "Python 3 (ipykernel)",
   "language": "python",
   "name": "python3"
  },
  "language_info": {
   "codemirror_mode": {
    "name": "ipython",
    "version": 3
   },
   "file_extension": ".py",
   "mimetype": "text/x-python",
   "name": "python",
   "nbconvert_exporter": "python",
   "pygments_lexer": "ipython3",
   "version": "3.11.7"
  }
 },
 "nbformat": 4,
 "nbformat_minor": 5
}
